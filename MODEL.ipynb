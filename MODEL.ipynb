{
 "cells": [
  {
   "cell_type": "code",
   "execution_count": 1,
   "id": "207e2709",
   "metadata": {},
   "outputs": [],
   "source": [
    "# Required libraries\n",
    "import pandas as pd\n",
    "import seaborn as sns\n",
    "from sklearn.model_selection import train_test_split\n",
    "from sklearn.ensemble import RandomForestRegressor\n",
    "from sklearn.metrics import mean_absolute_error\n",
    "import pickle\n",
    "\n",
    "# Load the dataset\n",
    "data = sns.load_dataset('tips')"
   ]
  },
  {
   "cell_type": "code",
   "execution_count": 2,
   "id": "821e055a",
   "metadata": {},
   "outputs": [
    {
     "data": {
      "text/plain": [
       "No     151\n",
       "Yes     93\n",
       "Name: smoker, dtype: int64"
      ]
     },
     "execution_count": 2,
     "metadata": {},
     "output_type": "execute_result"
    }
   ],
   "source": [
    "data['smoker'].value_counts()"
   ]
  },
  {
   "cell_type": "code",
   "execution_count": 3,
   "id": "560d06ca",
   "metadata": {},
   "outputs": [
    {
     "data": {
      "text/plain": [
       "2    156\n",
       "3     38\n",
       "4     37\n",
       "5      5\n",
       "1      4\n",
       "6      4\n",
       "Name: size, dtype: int64"
      ]
     },
     "execution_count": 3,
     "metadata": {},
     "output_type": "execute_result"
    }
   ],
   "source": [
    "data['size'].value_counts()"
   ]
  },
  {
   "cell_type": "code",
   "execution_count": 4,
   "id": "55af478c",
   "metadata": {},
   "outputs": [
    {
     "data": {
      "text/plain": [
       "13.42    3\n",
       "13.81    2\n",
       "15.98    2\n",
       "17.92    2\n",
       "10.07    2\n",
       "        ..\n",
       "24.71    1\n",
       "21.16    1\n",
       "28.97    1\n",
       "22.49    1\n",
       "18.78    1\n",
       "Name: total_bill, Length: 229, dtype: int64"
      ]
     },
     "execution_count": 4,
     "metadata": {},
     "output_type": "execute_result"
    }
   ],
   "source": [
    "data['total_bill'].value_counts()"
   ]
  },
  {
   "cell_type": "code",
   "execution_count": 5,
   "id": "d5f61573",
   "metadata": {},
   "outputs": [
    {
     "name": "stdout",
     "output_type": "stream",
     "text": [
      "Mean Absolute Error: 0.7454775510204084\n"
     ]
    }
   ],
   "source": [
    "# Mapping categorical variables manually\n",
    "sex_mapping = {'Male':0, 'Female':1}\n",
    "smoker_mapping = {'No':0, 'Yes':1}\n",
    "day_mapping = {'Thur':0, 'Fri':1, 'Sat':2, 'Sun':3}\n",
    "time_mapping = {'Lunch':0, 'Dinner':1}\n",
    "\n",
    "data['sex'] = data['sex'].map(sex_mapping)\n",
    "data['smoker'] = data['smoker'].map(smoker_mapping)\n",
    "data['day'] = data['day'].map(day_mapping)\n",
    "data['time']=data['time'].map(time_mapping)\n",
    "\n",
    "# Features and target variable\n",
    "x = data.drop(columns=['tip'])\n",
    "y = data['tip']\n",
    "\n",
    "# Split into training and testing data\n",
    "x_train,x_test,y_train,y_test = train_test_split(x,y,test_size=0.2,random_state=42)\n",
    "\n",
    "# Train the model\n",
    "model = RandomForestRegressor()\n",
    "model.fit(x_train,y_train)\n",
    "\n",
    "# Predictions and Evaluation\n",
    "y_pred = model.predict(x_test)\n",
    "mae = mean_absolute_error(y_test, y_pred)\n",
    "print(f\"Mean Absolute Error: {mae}\")\n",
    "\n",
    "# Model saving\n",
    "with open('model.pkl','wb') as model_file:\n",
    "  pickle.dump(model,model_file)"
   ]
  },
  {
   "cell_type": "code",
   "execution_count": 6,
   "id": "e07cad13",
   "metadata": {},
   "outputs": [
    {
     "data": {
      "text/plain": [
       "Index(['total_bill', 'sex', 'smoker', 'day', 'time', 'size'], dtype='object')"
      ]
     },
     "execution_count": 6,
     "metadata": {},
     "output_type": "execute_result"
    }
   ],
   "source": [
    "x_train.columns"
   ]
  },
  {
   "cell_type": "code",
   "execution_count": 7,
   "id": "03589b4c",
   "metadata": {},
   "outputs": [
    {
     "data": {
      "text/plain": [
       "228    2.72\n",
       "208    2.03\n",
       "96     4.00\n",
       "167    4.50\n",
       "84     2.03\n",
       "       ... \n",
       "106    4.06\n",
       "14     3.02\n",
       "92     1.00\n",
       "179    3.55\n",
       "102    2.50\n",
       "Name: tip, Length: 195, dtype: float64"
      ]
     },
     "execution_count": 7,
     "metadata": {},
     "output_type": "execute_result"
    }
   ],
   "source": [
    "y_train"
   ]
  },
  {
   "cell_type": "code",
   "execution_count": 8,
   "id": "3fc447ef",
   "metadata": {},
   "outputs": [
    {
     "data": {
      "text/plain": [
       "0    151\n",
       "1     93\n",
       "Name: smoker, dtype: int64"
      ]
     },
     "execution_count": 8,
     "metadata": {},
     "output_type": "execute_result"
    }
   ],
   "source": [
    "data['smoker'].value_counts()"
   ]
  },
  {
   "cell_type": "code",
   "execution_count": 9,
   "id": "b16d03fd",
   "metadata": {},
   "outputs": [],
   "source": [
    "import pandas as pd\n",
    "input_data = pd.DataFrame({\n",
    "    'total_bill' : [200],\n",
    "    'sex' : ['Male'],\n",
    "    'smoker':['No'],\n",
    "    'day' : ['Thur'],\n",
    "    'time' : ['Lunch'],\n",
    "    'size' : [2]\n",
    "})"
   ]
  },
  {
   "cell_type": "code",
   "execution_count": 10,
   "id": "6dc7f9c5",
   "metadata": {},
   "outputs": [
    {
     "name": "stdout",
     "output_type": "stream",
     "text": [
      "[8.6755]\n"
     ]
    }
   ],
   "source": [
    "sex_mapping = {'Male':0, 'Female':1}\n",
    "smoker_mapping = {'No':0, 'Yes':1}\n",
    "day_mapping = {'Thur':0, 'Fri':1, 'Sat':2, 'Sun':3}\n",
    "time_mapping = {'Lunch':0, 'Dinner':1}\n",
    "\n",
    "input_data['sex'] = input_data['sex'].map(sex_mapping)\n",
    "input_data['smoker'] = input_data['smoker'].map(smoker_mapping)\n",
    "input_data['day'] = input_data['day'].map(day_mapping)\n",
    "input_data['time']=input_data['time'].map(time_mapping)\n",
    "with open('model.pkl','rb') as model_file:\n",
    "    m = pickle.load(model_file)\n",
    "predict = m.predict(input_data)\n",
    "print(predict)"
   ]
  },
  {
   "cell_type": "code",
   "execution_count": 11,
   "id": "0c839aec",
   "metadata": {},
   "outputs": [
    {
     "name": "stdout",
     "output_type": "stream",
     "text": [
      "   total_bill  sex  smoker  day  time  size\n",
      "0         200    0       0    0     0     2\n"
     ]
    }
   ],
   "source": [
    "print(input_data)"
   ]
  }
 ],
 "metadata": {
  "kernelspec": {
   "display_name": "base",
   "language": "python",
   "name": "python3"
  },
  "language_info": {
   "codemirror_mode": {
    "name": "ipython",
    "version": 3
   },
   "file_extension": ".py",
   "mimetype": "text/x-python",
   "name": "python",
   "nbconvert_exporter": "python",
   "pygments_lexer": "ipython3",
   "version": "3.9.13"
  }
 },
 "nbformat": 4,
 "nbformat_minor": 5
}
